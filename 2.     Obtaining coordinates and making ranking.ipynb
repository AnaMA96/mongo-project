{
 "cells": [
  {
   "cell_type": "code",
   "execution_count": 1,
   "metadata": {},
   "outputs": [
    {
     "data": {
      "text/plain": [
       "True"
      ]
     },
     "execution_count": 1,
     "metadata": {},
     "output_type": "execute_result"
    }
   ],
   "source": [
    "from pymongo import MongoClient\n",
    "import pandas as pd\n",
    "\n",
    "import src.googla as gl\n",
    "import os\n",
    "from dotenv import load_dotenv\n",
    "import json\n",
    "import requests\n",
    "import src.filtering as fl\n",
    "\n",
    "load_dotenv()"
   ]
  },
  {
   "cell_type": "code",
   "execution_count": 2,
   "metadata": {},
   "outputs": [],
   "source": [
    "conn = MongoClient(\"localhost:27017\")"
   ]
  },
  {
   "cell_type": "markdown",
   "metadata": {},
   "source": [
    "#### Comprobamos que existe y aparece la base de datos \"Cleaned_offices\" que necesitamos utilizar, así como la colección correspondiente"
   ]
  },
  {
   "cell_type": "code",
   "execution_count": 3,
   "metadata": {},
   "outputs": [
    {
     "data": {
      "text/plain": [
       "['Cleaned_offices',\n",
       " 'Employees',\n",
       " 'Ironhack',\n",
       " 'PullRequests',\n",
       " 'admin',\n",
       " 'companies',\n",
       " 'config',\n",
       " 'local']"
      ]
     },
     "execution_count": 3,
     "metadata": {},
     "output_type": "execute_result"
    }
   ],
   "source": [
    "conn.list_database_names()"
   ]
  },
  {
   "cell_type": "code",
   "execution_count": 4,
   "metadata": {},
   "outputs": [],
   "source": [
    "db = conn.get_database(\"Cleaned_offices\")"
   ]
  },
  {
   "cell_type": "code",
   "execution_count": 5,
   "metadata": {},
   "outputs": [
    {
     "data": {
      "text/plain": [
       "['places', 'can_offices', 'collection', 'cleaned_offices']"
      ]
     },
     "execution_count": 5,
     "metadata": {},
     "output_type": "execute_result"
    }
   ],
   "source": [
    "db.list_collection_names()"
   ]
  },
  {
   "cell_type": "code",
   "execution_count": 6,
   "metadata": {},
   "outputs": [],
   "source": [
    "collection = db.get_collection(\"cleaned_offices\")\n"
   ]
  },
  {
   "cell_type": "code",
   "execution_count": 7,
   "metadata": {},
   "outputs": [
    {
     "data": {
      "text/plain": [
       "{'_id': ObjectId('5fb0325b71eb61051a67a4e3'),\n",
       " 'name': 'Geni',\n",
       " 'category_code': 'web',\n",
       " 'founded_year': 2006,\n",
       " 'offices': {'description': 'Headquarters',\n",
       "  'address1': '9229 W. Sunset Blvd.',\n",
       "  'address2': '',\n",
       "  'zip_code': '90069',\n",
       "  'city': 'West Hollywood',\n",
       "  'state_code': 'CA',\n",
       "  'country_code': 'USA',\n",
       "  'latitude': 34.090368,\n",
       "  'longitude': -118.393064},\n",
       " 'total_funding': 16500000,\n",
       " 'city': 'West Hollywood',\n",
       " 'latitude': 34.090368,\n",
       " 'longitude': -118.393064,\n",
       " 'location': {'type': 'Point', 'coordinates': [-118.393064, 34.090368]}}"
      ]
     },
     "execution_count": 7,
     "metadata": {},
     "output_type": "execute_result"
    }
   ],
   "source": [
    "collection.find_one()\n"
   ]
  },
  {
   "cell_type": "markdown",
   "metadata": {},
   "source": [
    "#### Comprobamos las keys que hay "
   ]
  },
  {
   "cell_type": "code",
   "execution_count": 8,
   "metadata": {},
   "outputs": [
    {
     "data": {
      "text/plain": [
       "dict_keys(['_id', 'name', 'category_code', 'founded_year', 'offices', 'total_funding', 'city', 'latitude', 'longitude', 'location'])"
      ]
     },
     "execution_count": 8,
     "metadata": {},
     "output_type": "execute_result"
    }
   ],
   "source": [
    "collection.find_one().keys()\n"
   ]
  },
  {
   "cell_type": "markdown",
   "metadata": {},
   "source": [
    "###  Después de investigar al respecto  e informarme acerca de la situación tecnológica de algunas de las economías más fuertes del mundo, he decidido situar la oficina en Vancouver, Canadá. Esto se debe, por un lado, a que[ el sector tecnológico de la ciudad está en pleno auge](https://www.theglobeandmail.com/business/industry-news/property-report/article-vancouvers-emerging-tech-sector-poised-for-accelerated-growth/), llamando la atención de empresas como Microsoft Corp.,  Sony Pictures Imageworks Inc. o Amazon.  Además, por otra parte, se espera que [la fuerte economía en crecimiento de Vancouver en la situación pre-COVID se recupere casi en su totalidad](https://www.vancouvereconomic.com/economic-snapshot/), cuestión interesante teniendo en cuenta la crisis económica que sucederá a la sanitaria que se está viviendo a nivel mundial."
   ]
  },
  {
   "cell_type": "code",
   "execution_count": 12,
   "metadata": {},
   "outputs": [],
   "source": [
    "can_offices = collection.find({\"offices.country_code\": 'CAN', \"city\": \"Vancouver\"})"
   ]
  },
  {
   "cell_type": "code",
   "execution_count": 13,
   "metadata": {},
   "outputs": [],
   "source": [
    "offices_list = list(can_offices)"
   ]
  },
  {
   "cell_type": "code",
   "execution_count": 14,
   "metadata": {},
   "outputs": [
    {
     "data": {
      "text/plain": [
       "{'_id': ObjectId('5fb0325b71eb61051a67a560'),\n",
       " 'name': 'NowPublic',\n",
       " 'category_code': 'web',\n",
       " 'founded_year': 2005,\n",
       " 'offices': {'description': '',\n",
       "  'address1': '576 Seymour Street',\n",
       "  'address2': 'Suite 204',\n",
       "  'zip_code': '',\n",
       "  'city': 'Vancouver',\n",
       "  'state_code': None,\n",
       "  'country_code': 'CAN',\n",
       "  'latitude': 49.283376,\n",
       "  'longitude': -123.103986},\n",
       " 'total_funding': 12000000,\n",
       " 'city': 'Vancouver',\n",
       " 'latitude': 49.283376,\n",
       " 'longitude': -123.103986,\n",
       " 'location': {'type': 'Point', 'coordinates': [-123.103986, 49.283376]}}"
      ]
     },
     "execution_count": 14,
     "metadata": {},
     "output_type": "execute_result"
    }
   ],
   "source": [
    "offices_list[0]"
   ]
  },
  {
   "cell_type": "code",
   "execution_count": 15,
   "metadata": {},
   "outputs": [],
   "source": [
    "#def get_google(latlong, radius,typ, apiKey, keyw=None):\n",
    "  #  keyword= '&keyword='+keyw if keyw else ''\n",
    "  #  url = f'https://maps.googleapis.com/maps/api/place/nearbysearch/json?location={latlong}&radius={radius}&type={typ}{keyword}&key={apiKey}'\n",
    " #   res = requests.get(url)\n",
    " #   return res.json()['results']"
   ]
  },
  {
   "cell_type": "code",
   "execution_count": 16,
   "metadata": {},
   "outputs": [],
   "source": [
    "#def get_latlong(office):\n",
    "  #  return str(office['location']['coordinates'][::-1]).replace(' ', '')[1:-1]"
   ]
  },
  {
   "cell_type": "markdown",
   "metadata": {},
   "source": [
    "#### Utilizamos una función (\"fill_nearest_places\") para llamar a la API de Google Places y, a partir de la lista de oficinas filtradas en el paso anterior,  obtener de cada oficina los aeropuertos, los Starbucks, los clubs nocturnos y los colegios y realizamos un \"len\" de la lista para así saber cuántos de cada tiene cada oficina en el radio que le marcamos:\n",
    "\n",
    "-  Aeropuertos (internacionales) en un radio de 2 km. Especificamos internacionales porque Vancouver tiene algunos aeropuertos para sea-planes.y así poder viajar entre islas cercanas.\n",
    "\n",
    "- Colegios en un radio de 1 km.\n",
    "\n",
    "- Clubs nocturnos en un radio de 1 km.\n",
    "\n",
    "- Starbucks en un radio de 500 metros.\n"
   ]
  },
  {
   "cell_type": "code",
   "execution_count": 17,
   "metadata": {},
   "outputs": [],
   "source": [
    "filled_offices_list = gl.fill_nearest_places(offices_list)"
   ]
  },
  {
   "cell_type": "code",
   "execution_count": 18,
   "metadata": {},
   "outputs": [
    {
     "data": {
      "text/plain": [
       "{'_id': ObjectId('5fb0325b71eb61051a67a560'),\n",
       " 'name': 'NowPublic',\n",
       " 'category_code': 'web',\n",
       " 'founded_year': 2005,\n",
       " 'offices': {'description': '',\n",
       "  'address1': '576 Seymour Street',\n",
       "  'address2': 'Suite 204',\n",
       "  'zip_code': '',\n",
       "  'city': 'Vancouver',\n",
       "  'state_code': None,\n",
       "  'country_code': 'CAN',\n",
       "  'latitude': 49.283376,\n",
       "  'longitude': -123.103986},\n",
       " 'total_funding': 12000000,\n",
       " 'city': 'Vancouver',\n",
       " 'latitude': 49.283376,\n",
       " 'longitude': -123.103986,\n",
       " 'location': {'type': 'Point', 'coordinates': [-123.103986, 49.283376]},\n",
       " 'airports_2km': 5,\n",
       " 'primary_schools_1km': 2,\n",
       " 'night_clubs_1km': 20,\n",
       " 'starbucks_500m': 5}"
      ]
     },
     "execution_count": 18,
     "metadata": {},
     "output_type": "execute_result"
    }
   ],
   "source": [
    "filled_offices_list[0]"
   ]
  },
  {
   "cell_type": "code",
   "execution_count": 19,
   "metadata": {},
   "outputs": [],
   "source": [
    "filled_offices_df = pd.DataFrame(filled_offices_list)"
   ]
  },
  {
   "cell_type": "code",
   "execution_count": 20,
   "metadata": {},
   "outputs": [
    {
     "data": {
      "text/html": [
       "<div>\n",
       "<style scoped>\n",
       "    .dataframe tbody tr th:only-of-type {\n",
       "        vertical-align: middle;\n",
       "    }\n",
       "\n",
       "    .dataframe tbody tr th {\n",
       "        vertical-align: top;\n",
       "    }\n",
       "\n",
       "    .dataframe thead th {\n",
       "        text-align: right;\n",
       "    }\n",
       "</style>\n",
       "<table border=\"1\" class=\"dataframe\">\n",
       "  <thead>\n",
       "    <tr style=\"text-align: right;\">\n",
       "      <th></th>\n",
       "      <th>_id</th>\n",
       "      <th>name</th>\n",
       "      <th>category_code</th>\n",
       "      <th>founded_year</th>\n",
       "      <th>offices</th>\n",
       "      <th>total_funding</th>\n",
       "      <th>city</th>\n",
       "      <th>latitude</th>\n",
       "      <th>longitude</th>\n",
       "      <th>location</th>\n",
       "      <th>airports_2km</th>\n",
       "      <th>primary_schools_1km</th>\n",
       "      <th>night_clubs_1km</th>\n",
       "      <th>starbucks_500m</th>\n",
       "    </tr>\n",
       "  </thead>\n",
       "  <tbody>\n",
       "    <tr>\n",
       "      <th>0</th>\n",
       "      <td>5fb0325b71eb61051a67a560</td>\n",
       "      <td>NowPublic</td>\n",
       "      <td>web</td>\n",
       "      <td>2005.0</td>\n",
       "      <td>{'description': '', 'address1': '576 Seymour S...</td>\n",
       "      <td>12000000</td>\n",
       "      <td>Vancouver</td>\n",
       "      <td>49.283376</td>\n",
       "      <td>-123.103986</td>\n",
       "      <td>{'type': 'Point', 'coordinates': [-123.103986,...</td>\n",
       "      <td>5</td>\n",
       "      <td>2</td>\n",
       "      <td>20</td>\n",
       "      <td>5</td>\n",
       "    </tr>\n",
       "    <tr>\n",
       "      <th>1</th>\n",
       "      <td>5fb0325b71eb61051a67a68c</td>\n",
       "      <td>TeamPages</td>\n",
       "      <td>web</td>\n",
       "      <td>2006.0</td>\n",
       "      <td>{'description': 'Head Office', 'address1': '#4...</td>\n",
       "      <td>500000</td>\n",
       "      <td>Vancouver</td>\n",
       "      <td>49.275323</td>\n",
       "      <td>-123.120879</td>\n",
       "      <td>{'type': 'Point', 'coordinates': [-123.1208785...</td>\n",
       "      <td>5</td>\n",
       "      <td>2</td>\n",
       "      <td>20</td>\n",
       "      <td>11</td>\n",
       "    </tr>\n",
       "    <tr>\n",
       "      <th>2</th>\n",
       "      <td>5fb0325b71eb61051a67a857</td>\n",
       "      <td>VideoClix</td>\n",
       "      <td>web</td>\n",
       "      <td>1999.0</td>\n",
       "      <td>{'description': '', 'address1': '8th Floor', '...</td>\n",
       "      <td>9600000</td>\n",
       "      <td>Vancouver</td>\n",
       "      <td>49.283632</td>\n",
       "      <td>-123.104934</td>\n",
       "      <td>{'type': 'Point', 'coordinates': [-123.104934,...</td>\n",
       "      <td>5</td>\n",
       "      <td>1</td>\n",
       "      <td>20</td>\n",
       "      <td>5</td>\n",
       "    </tr>\n",
       "  </tbody>\n",
       "</table>\n",
       "</div>"
      ],
      "text/plain": [
       "                        _id       name category_code  founded_year  \\\n",
       "0  5fb0325b71eb61051a67a560  NowPublic           web        2005.0   \n",
       "1  5fb0325b71eb61051a67a68c  TeamPages           web        2006.0   \n",
       "2  5fb0325b71eb61051a67a857  VideoClix           web        1999.0   \n",
       "\n",
       "                                             offices  total_funding  \\\n",
       "0  {'description': '', 'address1': '576 Seymour S...       12000000   \n",
       "1  {'description': 'Head Office', 'address1': '#4...         500000   \n",
       "2  {'description': '', 'address1': '8th Floor', '...        9600000   \n",
       "\n",
       "        city   latitude   longitude  \\\n",
       "0  Vancouver  49.283376 -123.103986   \n",
       "1  Vancouver  49.275323 -123.120879   \n",
       "2  Vancouver  49.283632 -123.104934   \n",
       "\n",
       "                                            location  airports_2km  \\\n",
       "0  {'type': 'Point', 'coordinates': [-123.103986,...             5   \n",
       "1  {'type': 'Point', 'coordinates': [-123.1208785...             5   \n",
       "2  {'type': 'Point', 'coordinates': [-123.104934,...             5   \n",
       "\n",
       "   primary_schools_1km  night_clubs_1km  starbucks_500m  \n",
       "0                    2               20               5  \n",
       "1                    2               20              11  \n",
       "2                    1               20               5  "
      ]
     },
     "execution_count": 20,
     "metadata": {},
     "output_type": "execute_result"
    }
   ],
   "source": [
    "filled_offices_df.head(3)"
   ]
  },
  {
   "cell_type": "markdown",
   "metadata": {},
   "source": [
    "#### Ahora procedemos a ponderar. Para mi análisis he considerado que:\n",
    "- Tener un aeropuerto internacional en un radio de 2 km tiene un peso de 0,3 porque al ganar tiempo minimiza costes para la empresa.\n",
    "- Tener un colegio en un radio de 1 km tiene un peso de 0,2, porque el 30% de la plantilla tiene hijos.\n",
    "- Tener un club nocturno a menos de 1 km tiene un peso de 0,3, porque teniendo en cuenta la edad de la plantilla podría interesar a todos.\n",
    "- Tener un Starbucks a menos de 500 metros tiene un peso de 0,2 porque es importante que los ejecutivos no pierdan demasiado tiempo de trabajo yendo a por café.\n",
    "\n",
    "#### Con esta información obtenemos la columna 'score' que ordenamos de forma descendente de modo que los primeros resultados son los de las oficinas que en base a los criterios explicados han obtenido una mayor puntuación."
   ]
  },
  {
   "cell_type": "code",
   "execution_count": 21,
   "metadata": {},
   "outputs": [],
   "source": [
    "filled_offices_df['score'] = (filled_offices_df[\"airports_2km\"] * 0.3) + (filled_offices_df[\"primary_schools_1km\"] *0.2) + (filled_offices_df[\"night_clubs_1km\"] *0.3) + (filled_offices_df[\"starbucks_500m\"] * (0.2))"
   ]
  },
  {
   "cell_type": "code",
   "execution_count": 22,
   "metadata": {
    "scrolled": true
   },
   "outputs": [
    {
     "data": {
      "text/html": [
       "<div>\n",
       "<style scoped>\n",
       "    .dataframe tbody tr th:only-of-type {\n",
       "        vertical-align: middle;\n",
       "    }\n",
       "\n",
       "    .dataframe tbody tr th {\n",
       "        vertical-align: top;\n",
       "    }\n",
       "\n",
       "    .dataframe thead th {\n",
       "        text-align: right;\n",
       "    }\n",
       "</style>\n",
       "<table border=\"1\" class=\"dataframe\">\n",
       "  <thead>\n",
       "    <tr style=\"text-align: right;\">\n",
       "      <th></th>\n",
       "      <th>_id</th>\n",
       "      <th>name</th>\n",
       "      <th>category_code</th>\n",
       "      <th>founded_year</th>\n",
       "      <th>offices</th>\n",
       "      <th>total_funding</th>\n",
       "      <th>city</th>\n",
       "      <th>latitude</th>\n",
       "      <th>longitude</th>\n",
       "      <th>location</th>\n",
       "      <th>airports_2km</th>\n",
       "      <th>primary_schools_1km</th>\n",
       "      <th>night_clubs_1km</th>\n",
       "      <th>starbucks_500m</th>\n",
       "      <th>score</th>\n",
       "    </tr>\n",
       "  </thead>\n",
       "  <tbody>\n",
       "    <tr>\n",
       "      <th>13</th>\n",
       "      <td>5fb0325c71eb61051a67b17d</td>\n",
       "      <td>Nexterra</td>\n",
       "      <td>cleantech</td>\n",
       "      <td>NaN</td>\n",
       "      <td>{'description': 'Corporate Headquarters', 'add...</td>\n",
       "      <td>29000000</td>\n",
       "      <td>Vancouver</td>\n",
       "      <td>49.282159</td>\n",
       "      <td>-123.117650</td>\n",
       "      <td>{'type': 'Point', 'coordinates': [-123.1176496...</td>\n",
       "      <td>5</td>\n",
       "      <td>3</td>\n",
       "      <td>20</td>\n",
       "      <td>20</td>\n",
       "      <td>12.1</td>\n",
       "    </tr>\n",
       "    <tr>\n",
       "      <th>4</th>\n",
       "      <td>5fb0325b71eb61051a67a870</td>\n",
       "      <td>BuildDirect</td>\n",
       "      <td>ecommerce</td>\n",
       "      <td>1999.0</td>\n",
       "      <td>{'description': '', 'address1': '717 West Pend...</td>\n",
       "      <td>33000000</td>\n",
       "      <td>Vancouver</td>\n",
       "      <td>49.283935</td>\n",
       "      <td>-123.115930</td>\n",
       "      <td>{'type': 'Point', 'coordinates': [-123.11593, ...</td>\n",
       "      <td>5</td>\n",
       "      <td>2</td>\n",
       "      <td>20</td>\n",
       "      <td>20</td>\n",
       "      <td>11.9</td>\n",
       "    </tr>\n",
       "    <tr>\n",
       "      <th>11</th>\n",
       "      <td>5fb0325c71eb61051a67b075</td>\n",
       "      <td>Ostara</td>\n",
       "      <td>cleantech</td>\n",
       "      <td>2005.0</td>\n",
       "      <td>{'description': '', 'address1': '690 â€“ 1199 ...</td>\n",
       "      <td>45681891</td>\n",
       "      <td>Vancouver</td>\n",
       "      <td>49.288355</td>\n",
       "      <td>-123.123355</td>\n",
       "      <td>{'type': 'Point', 'coordinates': [-123.1233545...</td>\n",
       "      <td>5</td>\n",
       "      <td>2</td>\n",
       "      <td>20</td>\n",
       "      <td>20</td>\n",
       "      <td>11.9</td>\n",
       "    </tr>\n",
       "    <tr>\n",
       "      <th>5</th>\n",
       "      <td>5fb0325b71eb61051a67a97d</td>\n",
       "      <td>Bootup Labs</td>\n",
       "      <td>consulting</td>\n",
       "      <td>2008.0</td>\n",
       "      <td>{'description': '', 'address1': '163 West Hast...</td>\n",
       "      <td>262500</td>\n",
       "      <td>Vancouver</td>\n",
       "      <td>49.284608</td>\n",
       "      <td>-123.110394</td>\n",
       "      <td>{'type': 'Point', 'coordinates': [-123.110394,...</td>\n",
       "      <td>5</td>\n",
       "      <td>1</td>\n",
       "      <td>20</td>\n",
       "      <td>16</td>\n",
       "      <td>10.9</td>\n",
       "    </tr>\n",
       "    <tr>\n",
       "      <th>14</th>\n",
       "      <td>5fb0325c71eb61051a67b18f</td>\n",
       "      <td>Tiny Speck</td>\n",
       "      <td>games_video</td>\n",
       "      <td>2009.0</td>\n",
       "      <td>{'description': '', 'address1': '163 Hastings ...</td>\n",
       "      <td>17200000</td>\n",
       "      <td>Vancouver</td>\n",
       "      <td>49.282455</td>\n",
       "      <td>-123.109217</td>\n",
       "      <td>{'type': 'Point', 'coordinates': [-123.109217,...</td>\n",
       "      <td>5</td>\n",
       "      <td>1</td>\n",
       "      <td>20</td>\n",
       "      <td>15</td>\n",
       "      <td>10.7</td>\n",
       "    </tr>\n",
       "    <tr>\n",
       "      <th>3</th>\n",
       "      <td>5fb0325b71eb61051a67a858</td>\n",
       "      <td>Strutta</td>\n",
       "      <td>advertising</td>\n",
       "      <td>2007.0</td>\n",
       "      <td>{'description': '', 'address1': '128 West Hast...</td>\n",
       "      <td>1500000</td>\n",
       "      <td>Vancouver</td>\n",
       "      <td>49.282108</td>\n",
       "      <td>-123.107805</td>\n",
       "      <td>{'type': 'Point', 'coordinates': [-123.1078045...</td>\n",
       "      <td>5</td>\n",
       "      <td>1</td>\n",
       "      <td>20</td>\n",
       "      <td>14</td>\n",
       "      <td>10.5</td>\n",
       "    </tr>\n",
       "    <tr>\n",
       "      <th>12</th>\n",
       "      <td>5fb0325c71eb61051a67b17b</td>\n",
       "      <td>FundRazr</td>\n",
       "      <td>social</td>\n",
       "      <td>2008.0</td>\n",
       "      <td>{'description': 'Vancouver Office', 'address1'...</td>\n",
       "      <td>243750</td>\n",
       "      <td>Vancouver</td>\n",
       "      <td>49.284394</td>\n",
       "      <td>-123.109262</td>\n",
       "      <td>{'type': 'Point', 'coordinates': [-123.1092622...</td>\n",
       "      <td>5</td>\n",
       "      <td>1</td>\n",
       "      <td>20</td>\n",
       "      <td>14</td>\n",
       "      <td>10.5</td>\n",
       "    </tr>\n",
       "    <tr>\n",
       "      <th>6</th>\n",
       "      <td>5fb0325b71eb61051a67aa31</td>\n",
       "      <td>Suite101</td>\n",
       "      <td>web</td>\n",
       "      <td>1996.0</td>\n",
       "      <td>{'description': 'Vancouver HQ', 'address1': '2...</td>\n",
       "      <td>0</td>\n",
       "      <td>Vancouver</td>\n",
       "      <td>49.275332</td>\n",
       "      <td>-123.120893</td>\n",
       "      <td>{'type': 'Point', 'coordinates': [-123.120893,...</td>\n",
       "      <td>5</td>\n",
       "      <td>2</td>\n",
       "      <td>20</td>\n",
       "      <td>12</td>\n",
       "      <td>10.3</td>\n",
       "    </tr>\n",
       "    <tr>\n",
       "      <th>1</th>\n",
       "      <td>5fb0325b71eb61051a67a68c</td>\n",
       "      <td>TeamPages</td>\n",
       "      <td>web</td>\n",
       "      <td>2006.0</td>\n",
       "      <td>{'description': 'Head Office', 'address1': '#4...</td>\n",
       "      <td>500000</td>\n",
       "      <td>Vancouver</td>\n",
       "      <td>49.275323</td>\n",
       "      <td>-123.120879</td>\n",
       "      <td>{'type': 'Point', 'coordinates': [-123.1208785...</td>\n",
       "      <td>5</td>\n",
       "      <td>2</td>\n",
       "      <td>20</td>\n",
       "      <td>11</td>\n",
       "      <td>10.1</td>\n",
       "    </tr>\n",
       "    <tr>\n",
       "      <th>0</th>\n",
       "      <td>5fb0325b71eb61051a67a560</td>\n",
       "      <td>NowPublic</td>\n",
       "      <td>web</td>\n",
       "      <td>2005.0</td>\n",
       "      <td>{'description': '', 'address1': '576 Seymour S...</td>\n",
       "      <td>12000000</td>\n",
       "      <td>Vancouver</td>\n",
       "      <td>49.283376</td>\n",
       "      <td>-123.103986</td>\n",
       "      <td>{'type': 'Point', 'coordinates': [-123.103986,...</td>\n",
       "      <td>5</td>\n",
       "      <td>2</td>\n",
       "      <td>20</td>\n",
       "      <td>5</td>\n",
       "      <td>8.9</td>\n",
       "    </tr>\n",
       "    <tr>\n",
       "      <th>7</th>\n",
       "      <td>5fb0325b71eb61051a67aab3</td>\n",
       "      <td>Taglocity</td>\n",
       "      <td>enterprise</td>\n",
       "      <td>2007.0</td>\n",
       "      <td>{'description': '', 'address1': '425 Carrall S...</td>\n",
       "      <td>1200000</td>\n",
       "      <td>Vancouver</td>\n",
       "      <td>49.281234</td>\n",
       "      <td>-123.104339</td>\n",
       "      <td>{'type': 'Point', 'coordinates': [-123.1043395...</td>\n",
       "      <td>5</td>\n",
       "      <td>2</td>\n",
       "      <td>20</td>\n",
       "      <td>4</td>\n",
       "      <td>8.7</td>\n",
       "    </tr>\n",
       "    <tr>\n",
       "      <th>8</th>\n",
       "      <td>5fb0325c71eb61051a67ab36</td>\n",
       "      <td>Taglocity</td>\n",
       "      <td>enterprise</td>\n",
       "      <td>2007.0</td>\n",
       "      <td>{'description': '', 'address1': '425 Carrall S...</td>\n",
       "      <td>1200000</td>\n",
       "      <td>Vancouver</td>\n",
       "      <td>49.281234</td>\n",
       "      <td>-123.104339</td>\n",
       "      <td>{'type': 'Point', 'coordinates': [-123.1043395...</td>\n",
       "      <td>5</td>\n",
       "      <td>2</td>\n",
       "      <td>20</td>\n",
       "      <td>4</td>\n",
       "      <td>8.7</td>\n",
       "    </tr>\n",
       "    <tr>\n",
       "      <th>2</th>\n",
       "      <td>5fb0325b71eb61051a67a857</td>\n",
       "      <td>VideoClix</td>\n",
       "      <td>web</td>\n",
       "      <td>1999.0</td>\n",
       "      <td>{'description': '', 'address1': '8th Floor', '...</td>\n",
       "      <td>9600000</td>\n",
       "      <td>Vancouver</td>\n",
       "      <td>49.283632</td>\n",
       "      <td>-123.104934</td>\n",
       "      <td>{'type': 'Point', 'coordinates': [-123.104934,...</td>\n",
       "      <td>5</td>\n",
       "      <td>1</td>\n",
       "      <td>20</td>\n",
       "      <td>5</td>\n",
       "      <td>8.7</td>\n",
       "    </tr>\n",
       "    <tr>\n",
       "      <th>10</th>\n",
       "      <td>5fb0325c71eb61051a67aeaa</td>\n",
       "      <td>HootSuite</td>\n",
       "      <td>social</td>\n",
       "      <td>2008.0</td>\n",
       "      <td>{'description': 'HootSuite Media, Inc.', 'addr...</td>\n",
       "      <td>189900000</td>\n",
       "      <td>Vancouver</td>\n",
       "      <td>49.285173</td>\n",
       "      <td>-123.095238</td>\n",
       "      <td>{'type': 'Point', 'coordinates': [-123.0952381...</td>\n",
       "      <td>5</td>\n",
       "      <td>1</td>\n",
       "      <td>12</td>\n",
       "      <td>1</td>\n",
       "      <td>5.5</td>\n",
       "    </tr>\n",
       "    <tr>\n",
       "      <th>9</th>\n",
       "      <td>5fb0325c71eb61051a67ac67</td>\n",
       "      <td>Aftercad Software</td>\n",
       "      <td>enterprise</td>\n",
       "      <td>2004.0</td>\n",
       "      <td>{'description': 'Vancouver Office', 'address1'...</td>\n",
       "      <td>825000</td>\n",
       "      <td>Vancouver</td>\n",
       "      <td>49.254030</td>\n",
       "      <td>-123.115207</td>\n",
       "      <td>{'type': 'Point', 'coordinates': [-123.1152075...</td>\n",
       "      <td>1</td>\n",
       "      <td>3</td>\n",
       "      <td>2</td>\n",
       "      <td>1</td>\n",
       "      <td>1.7</td>\n",
       "    </tr>\n",
       "  </tbody>\n",
       "</table>\n",
       "</div>"
      ],
      "text/plain": [
       "                         _id               name category_code  founded_year  \\\n",
       "13  5fb0325c71eb61051a67b17d           Nexterra     cleantech           NaN   \n",
       "4   5fb0325b71eb61051a67a870        BuildDirect     ecommerce        1999.0   \n",
       "11  5fb0325c71eb61051a67b075             Ostara     cleantech        2005.0   \n",
       "5   5fb0325b71eb61051a67a97d        Bootup Labs    consulting        2008.0   \n",
       "14  5fb0325c71eb61051a67b18f         Tiny Speck   games_video        2009.0   \n",
       "3   5fb0325b71eb61051a67a858            Strutta   advertising        2007.0   \n",
       "12  5fb0325c71eb61051a67b17b           FundRazr        social        2008.0   \n",
       "6   5fb0325b71eb61051a67aa31           Suite101           web        1996.0   \n",
       "1   5fb0325b71eb61051a67a68c          TeamPages           web        2006.0   \n",
       "0   5fb0325b71eb61051a67a560          NowPublic           web        2005.0   \n",
       "7   5fb0325b71eb61051a67aab3          Taglocity    enterprise        2007.0   \n",
       "8   5fb0325c71eb61051a67ab36          Taglocity    enterprise        2007.0   \n",
       "2   5fb0325b71eb61051a67a857          VideoClix           web        1999.0   \n",
       "10  5fb0325c71eb61051a67aeaa          HootSuite        social        2008.0   \n",
       "9   5fb0325c71eb61051a67ac67  Aftercad Software    enterprise        2004.0   \n",
       "\n",
       "                                              offices  total_funding  \\\n",
       "13  {'description': 'Corporate Headquarters', 'add...       29000000   \n",
       "4   {'description': '', 'address1': '717 West Pend...       33000000   \n",
       "11  {'description': '', 'address1': '690 â€“ 1199 ...       45681891   \n",
       "5   {'description': '', 'address1': '163 West Hast...         262500   \n",
       "14  {'description': '', 'address1': '163 Hastings ...       17200000   \n",
       "3   {'description': '', 'address1': '128 West Hast...        1500000   \n",
       "12  {'description': 'Vancouver Office', 'address1'...         243750   \n",
       "6   {'description': 'Vancouver HQ', 'address1': '2...              0   \n",
       "1   {'description': 'Head Office', 'address1': '#4...         500000   \n",
       "0   {'description': '', 'address1': '576 Seymour S...       12000000   \n",
       "7   {'description': '', 'address1': '425 Carrall S...        1200000   \n",
       "8   {'description': '', 'address1': '425 Carrall S...        1200000   \n",
       "2   {'description': '', 'address1': '8th Floor', '...        9600000   \n",
       "10  {'description': 'HootSuite Media, Inc.', 'addr...      189900000   \n",
       "9   {'description': 'Vancouver Office', 'address1'...         825000   \n",
       "\n",
       "         city   latitude   longitude  \\\n",
       "13  Vancouver  49.282159 -123.117650   \n",
       "4   Vancouver  49.283935 -123.115930   \n",
       "11  Vancouver  49.288355 -123.123355   \n",
       "5   Vancouver  49.284608 -123.110394   \n",
       "14  Vancouver  49.282455 -123.109217   \n",
       "3   Vancouver  49.282108 -123.107805   \n",
       "12  Vancouver  49.284394 -123.109262   \n",
       "6   Vancouver  49.275332 -123.120893   \n",
       "1   Vancouver  49.275323 -123.120879   \n",
       "0   Vancouver  49.283376 -123.103986   \n",
       "7   Vancouver  49.281234 -123.104339   \n",
       "8   Vancouver  49.281234 -123.104339   \n",
       "2   Vancouver  49.283632 -123.104934   \n",
       "10  Vancouver  49.285173 -123.095238   \n",
       "9   Vancouver  49.254030 -123.115207   \n",
       "\n",
       "                                             location  airports_2km  \\\n",
       "13  {'type': 'Point', 'coordinates': [-123.1176496...             5   \n",
       "4   {'type': 'Point', 'coordinates': [-123.11593, ...             5   \n",
       "11  {'type': 'Point', 'coordinates': [-123.1233545...             5   \n",
       "5   {'type': 'Point', 'coordinates': [-123.110394,...             5   \n",
       "14  {'type': 'Point', 'coordinates': [-123.109217,...             5   \n",
       "3   {'type': 'Point', 'coordinates': [-123.1078045...             5   \n",
       "12  {'type': 'Point', 'coordinates': [-123.1092622...             5   \n",
       "6   {'type': 'Point', 'coordinates': [-123.120893,...             5   \n",
       "1   {'type': 'Point', 'coordinates': [-123.1208785...             5   \n",
       "0   {'type': 'Point', 'coordinates': [-123.103986,...             5   \n",
       "7   {'type': 'Point', 'coordinates': [-123.1043395...             5   \n",
       "8   {'type': 'Point', 'coordinates': [-123.1043395...             5   \n",
       "2   {'type': 'Point', 'coordinates': [-123.104934,...             5   \n",
       "10  {'type': 'Point', 'coordinates': [-123.0952381...             5   \n",
       "9   {'type': 'Point', 'coordinates': [-123.1152075...             1   \n",
       "\n",
       "    primary_schools_1km  night_clubs_1km  starbucks_500m  score  \n",
       "13                    3               20              20   12.1  \n",
       "4                     2               20              20   11.9  \n",
       "11                    2               20              20   11.9  \n",
       "5                     1               20              16   10.9  \n",
       "14                    1               20              15   10.7  \n",
       "3                     1               20              14   10.5  \n",
       "12                    1               20              14   10.5  \n",
       "6                     2               20              12   10.3  \n",
       "1                     2               20              11   10.1  \n",
       "0                     2               20               5    8.9  \n",
       "7                     2               20               4    8.7  \n",
       "8                     2               20               4    8.7  \n",
       "2                     1               20               5    8.7  \n",
       "10                    1               12               1    5.5  \n",
       "9                     3                2               1    1.7  "
      ]
     },
     "execution_count": 22,
     "metadata": {},
     "output_type": "execute_result"
    }
   ],
   "source": [
    "filled_offices_df = filled_offices_df.sort_values(\"score\", ascending=False)\n",
    "filled_offices_df"
   ]
  },
  {
   "cell_type": "code",
   "execution_count": 23,
   "metadata": {},
   "outputs": [],
   "source": [
    "top_3 = filled_offices_df.copy()"
   ]
  },
  {
   "cell_type": "code",
   "execution_count": 24,
   "metadata": {},
   "outputs": [],
   "source": [
    "top_3 = top_3.head(3)"
   ]
  },
  {
   "cell_type": "code",
   "execution_count": 25,
   "metadata": {},
   "outputs": [
    {
     "data": {
      "text/html": [
       "<div>\n",
       "<style scoped>\n",
       "    .dataframe tbody tr th:only-of-type {\n",
       "        vertical-align: middle;\n",
       "    }\n",
       "\n",
       "    .dataframe tbody tr th {\n",
       "        vertical-align: top;\n",
       "    }\n",
       "\n",
       "    .dataframe thead th {\n",
       "        text-align: right;\n",
       "    }\n",
       "</style>\n",
       "<table border=\"1\" class=\"dataframe\">\n",
       "  <thead>\n",
       "    <tr style=\"text-align: right;\">\n",
       "      <th></th>\n",
       "      <th>_id</th>\n",
       "      <th>name</th>\n",
       "      <th>category_code</th>\n",
       "      <th>founded_year</th>\n",
       "      <th>offices</th>\n",
       "      <th>total_funding</th>\n",
       "      <th>city</th>\n",
       "      <th>latitude</th>\n",
       "      <th>longitude</th>\n",
       "      <th>location</th>\n",
       "      <th>airports_2km</th>\n",
       "      <th>primary_schools_1km</th>\n",
       "      <th>night_clubs_1km</th>\n",
       "      <th>starbucks_500m</th>\n",
       "      <th>score</th>\n",
       "    </tr>\n",
       "  </thead>\n",
       "  <tbody>\n",
       "    <tr>\n",
       "      <th>13</th>\n",
       "      <td>5fb0325c71eb61051a67b17d</td>\n",
       "      <td>Nexterra</td>\n",
       "      <td>cleantech</td>\n",
       "      <td>NaN</td>\n",
       "      <td>{'description': 'Corporate Headquarters', 'add...</td>\n",
       "      <td>29000000</td>\n",
       "      <td>Vancouver</td>\n",
       "      <td>49.282159</td>\n",
       "      <td>-123.117650</td>\n",
       "      <td>{'type': 'Point', 'coordinates': [-123.1176496...</td>\n",
       "      <td>5</td>\n",
       "      <td>3</td>\n",
       "      <td>20</td>\n",
       "      <td>20</td>\n",
       "      <td>12.1</td>\n",
       "    </tr>\n",
       "    <tr>\n",
       "      <th>4</th>\n",
       "      <td>5fb0325b71eb61051a67a870</td>\n",
       "      <td>BuildDirect</td>\n",
       "      <td>ecommerce</td>\n",
       "      <td>1999.0</td>\n",
       "      <td>{'description': '', 'address1': '717 West Pend...</td>\n",
       "      <td>33000000</td>\n",
       "      <td>Vancouver</td>\n",
       "      <td>49.283935</td>\n",
       "      <td>-123.115930</td>\n",
       "      <td>{'type': 'Point', 'coordinates': [-123.11593, ...</td>\n",
       "      <td>5</td>\n",
       "      <td>2</td>\n",
       "      <td>20</td>\n",
       "      <td>20</td>\n",
       "      <td>11.9</td>\n",
       "    </tr>\n",
       "    <tr>\n",
       "      <th>11</th>\n",
       "      <td>5fb0325c71eb61051a67b075</td>\n",
       "      <td>Ostara</td>\n",
       "      <td>cleantech</td>\n",
       "      <td>2005.0</td>\n",
       "      <td>{'description': '', 'address1': '690 â€“ 1199 ...</td>\n",
       "      <td>45681891</td>\n",
       "      <td>Vancouver</td>\n",
       "      <td>49.288355</td>\n",
       "      <td>-123.123355</td>\n",
       "      <td>{'type': 'Point', 'coordinates': [-123.1233545...</td>\n",
       "      <td>5</td>\n",
       "      <td>2</td>\n",
       "      <td>20</td>\n",
       "      <td>20</td>\n",
       "      <td>11.9</td>\n",
       "    </tr>\n",
       "  </tbody>\n",
       "</table>\n",
       "</div>"
      ],
      "text/plain": [
       "                         _id         name category_code  founded_year  \\\n",
       "13  5fb0325c71eb61051a67b17d     Nexterra     cleantech           NaN   \n",
       "4   5fb0325b71eb61051a67a870  BuildDirect     ecommerce        1999.0   \n",
       "11  5fb0325c71eb61051a67b075       Ostara     cleantech        2005.0   \n",
       "\n",
       "                                              offices  total_funding  \\\n",
       "13  {'description': 'Corporate Headquarters', 'add...       29000000   \n",
       "4   {'description': '', 'address1': '717 West Pend...       33000000   \n",
       "11  {'description': '', 'address1': '690 â€“ 1199 ...       45681891   \n",
       "\n",
       "         city   latitude   longitude  \\\n",
       "13  Vancouver  49.282159 -123.117650   \n",
       "4   Vancouver  49.283935 -123.115930   \n",
       "11  Vancouver  49.288355 -123.123355   \n",
       "\n",
       "                                             location  airports_2km  \\\n",
       "13  {'type': 'Point', 'coordinates': [-123.1176496...             5   \n",
       "4   {'type': 'Point', 'coordinates': [-123.11593, ...             5   \n",
       "11  {'type': 'Point', 'coordinates': [-123.1233545...             5   \n",
       "\n",
       "    primary_schools_1km  night_clubs_1km  starbucks_500m  score  \n",
       "13                    3               20              20   12.1  \n",
       "4                     2               20              20   11.9  \n",
       "11                    2               20              20   11.9  "
      ]
     },
     "execution_count": 25,
     "metadata": {},
     "output_type": "execute_result"
    }
   ],
   "source": [
    "top_3"
   ]
  },
  {
   "cell_type": "code",
   "execution_count": 32,
   "metadata": {},
   "outputs": [],
   "source": [
    "top_3.to_csv(r'output/top_3_offices.csv')"
   ]
  },
  {
   "cell_type": "markdown",
   "metadata": {},
   "source": [
    "### Aquí y para poder pintar el mapa vamos a reutilizar un par de funciones de los archivos de funciones para obtener las coordenadas del aeropuerto, el Starbucks, el nightclub y la escuela más cercanos a la oficina elegida."
   ]
  },
  {
   "cell_type": "code",
   "execution_count": 95,
   "metadata": {},
   "outputs": [],
   "source": [
    "def nearest_place(coordinates, places, place_type):\n",
    "    min_distance = None\n",
    "    nearest_place = None\n",
    "    for place in places:\n",
    "        place_coordinates = place[\"geometry\"][\"location\"]\n",
    "        distance_in_meters = fl.meters_between_coordinates(coordinates[1], coordinates[0], place_coordinates[\"lat\"], place_coordinates[\"lng\"])\n",
    "        if not min_distance:\n",
    "            min_distance = distance_in_meters\n",
    "            nearest_place = place\n",
    "        elif distance_in_meters < min_distance:\n",
    "            min_distance = distance_in_meters\n",
    "            nearest_place = place\n",
    "    \n",
    "    if nearest_place:\n",
    "        return {\"name\": nearest_place[\"name\"], \n",
    "                \"location\": nearest_place[\"geometry\"][\"location\"], \n",
    "                \"meters_to_office\": min_distance,\n",
    "                \"type\": place_type}\n",
    "    else:\n",
    "        return {}"
   ]
  },
  {
   "cell_type": "code",
   "execution_count": 96,
   "metadata": {},
   "outputs": [],
   "source": [
    "def fill_nearest_places(coordinates):\n",
    "    latlong = str(coordinates[::-1]).replace(' ', '')[1:-1]\n",
    "    nearest_places = []\n",
    "    airports_nearby = gl.get_google(latlong, radius=2000, typ='airport', apiKey=apiKey, keyw='international')\n",
    "    nearest_places.append(nearest_place(coordinates, airports_nearby, 'airport'))\n",
    "    \n",
    "    primary_schools_nearby = gl.get_google(latlong, radius=1000, typ='primary_school', apiKey=apiKey)\n",
    "    nearest_places.append(nearest_place(coordinates, primary_schools_nearby, 'primary_school'))\n",
    "    \n",
    "    \n",
    "    night_clubs_nearby = gl.get_google(latlong, radius=1000, typ='night_club', apiKey=apiKey)\n",
    "    nearest_places.append(nearest_place(coordinates, night_clubs_nearby, 'night_club'))\n",
    "\n",
    "    starbucks_nearby = gl.get_google(latlong, radius=500, typ='cafe', apiKey=apiKey, keyw='starbucks')\n",
    "    nearest_places.append(nearest_place(coordinates, starbucks_nearby, 'starbucks'))\n",
    "\n",
    "    return nearest_places"
   ]
  },
  {
   "cell_type": "code",
   "execution_count": 97,
   "metadata": {},
   "outputs": [],
   "source": [
    "nearest_places = fill_nearest_places([-123.117650, 49.282159])"
   ]
  },
  {
   "cell_type": "code",
   "execution_count": 98,
   "metadata": {},
   "outputs": [
    {
     "data": {
      "text/plain": [
       "[{'name': 'Vancouver airport',\n",
       "  'location': {'lat': 49.2842096, 'lng': -123.1094381},\n",
       "  'meters_to_office': 639.5119037045766,\n",
       "  'type': 'airport'},\n",
       " {'name': 'Acting With NATHALIE THERRIAULT',\n",
       "  'location': {'lat': 49.277642, 'lng': -123.1133467},\n",
       "  'meters_to_office': 591.948925721164,\n",
       "  'type': 'primary_school'},\n",
       " {'name': \"Hy's Steakhouse & Cocktail Bar\",\n",
       "  'location': {'lat': 49.2845532, 'lng': -123.1191216},\n",
       "  'meters_to_office': 286.9911945088801,\n",
       "  'type': 'night_club'},\n",
       " {'name': 'Starbucks',\n",
       "  'location': {'lat': 49.28207450000001, 'lng': -123.1184392},\n",
       "  'meters_to_office': 58.18427853798812,\n",
       "  'type': 'starbucks'}]"
      ]
     },
     "execution_count": 98,
     "metadata": {},
     "output_type": "execute_result"
    }
   ],
   "source": [
    "nearest_places"
   ]
  },
  {
   "cell_type": "code",
   "execution_count": null,
   "metadata": {},
   "outputs": [],
   "source": []
  }
 ],
 "metadata": {
  "kernelspec": {
   "display_name": "Python 3",
   "language": "python",
   "name": "python3"
  },
  "language_info": {
   "codemirror_mode": {
    "name": "ipython",
    "version": 3
   },
   "file_extension": ".py",
   "mimetype": "text/x-python",
   "name": "python",
   "nbconvert_exporter": "python",
   "pygments_lexer": "ipython3",
   "version": "3.8.5"
  }
 },
 "nbformat": 4,
 "nbformat_minor": 4
}
