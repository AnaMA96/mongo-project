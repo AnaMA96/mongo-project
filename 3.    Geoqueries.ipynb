{
 "cells": [
  {
   "cell_type": "code",
   "execution_count": 1,
   "metadata": {},
   "outputs": [
    {
     "data": {
      "text/plain": [
       "True"
      ]
     },
     "execution_count": 1,
     "metadata": {},
     "output_type": "execute_result"
    }
   ],
   "source": [
    "from pymongo import MongoClient\n",
    "import pandas as pd\n",
    "\n",
    "import src.googla as gl\n",
    "import src.geoqueries as g\n",
    "import os\n",
    "from dotenv import load_dotenv\n",
    "import json\n",
    "import requests\n",
    "import src.filtering as fl\n",
    "import src.geoqueries as ge\n",
    "from pymongo import GEOSPHERE\n",
    "\n",
    "load_dotenv()"
   ]
  },
  {
   "cell_type": "markdown",
   "metadata": {},
   "source": [
    "### Para utilizar también MongoDB para hacer geoqueries, vamos a complementar el resultado obtenido en el ranking hecho anteriormente averiguando cuál de las tres oficinas con más puntuación está más cerca de una peluquería canina para Pepe, el perro de la oficina."
   ]
  },
  {
   "cell_type": "code",
   "execution_count": 2,
   "metadata": {},
   "outputs": [],
   "source": [
    "conn = MongoClient(\"localhost:27017\")"
   ]
  },
  {
   "cell_type": "code",
   "execution_count": 3,
   "metadata": {},
   "outputs": [],
   "source": [
    "db = conn.get_database(\"Cleaned_offices\")"
   ]
  },
  {
   "cell_type": "markdown",
   "metadata": {},
   "source": [
    "### Creamos el índice 2dsphere que soporta queries que calculan geometrías con la forma de la esfera terrestre. Así podemos calcular distancias y lanzar queries que nos permitan averiguar qué queda cerca de qué."
   ]
  },
  {
   "cell_type": "code",
   "execution_count": 4,
   "metadata": {},
   "outputs": [
    {
     "data": {
      "text/plain": [
       "'location_2dsphere'"
      ]
     },
     "execution_count": 4,
     "metadata": {},
     "output_type": "execute_result"
    }
   ],
   "source": [
    "collection = db.get_collection(\"cleaned_offices\")\n",
    "\n",
    "collection.create_index([(\"location\", '2dsphere')])\n",
    "\n",
    "\n"
   ]
  },
  {
   "cell_type": "markdown",
   "metadata": {},
   "source": [
    "### Filtramos las oficinas de Canadá de nuevo para que los resultados de la geoquery sean coherentes con el análisis hecho hasta aquí."
   ]
  },
  {
   "cell_type": "code",
   "execution_count": 5,
   "metadata": {},
   "outputs": [],
   "source": [
    "can_offices = collection.find({\"offices.country_code\": 'CAN', \"city\": \"Vancouver\"})"
   ]
  },
  {
   "cell_type": "code",
   "execution_count": 6,
   "metadata": {},
   "outputs": [
    {
     "data": {
      "text/plain": [
       "<pymongo.cursor.Cursor at 0x1183390d0>"
      ]
     },
     "execution_count": 6,
     "metadata": {},
     "output_type": "execute_result"
    }
   ],
   "source": [
    "can_offices"
   ]
  },
  {
   "cell_type": "code",
   "execution_count": 7,
   "metadata": {},
   "outputs": [],
   "source": [
    "offices_list = list(can_offices)"
   ]
  },
  {
   "cell_type": "code",
   "execution_count": 8,
   "metadata": {},
   "outputs": [
    {
     "data": {
      "text/plain": [
       "'location_2dsphere'"
      ]
     },
     "execution_count": 8,
     "metadata": {},
     "output_type": "execute_result"
    }
   ],
   "source": [
    "db.collection.create_index([(\"location\", '2dsphere')])"
   ]
  },
  {
   "cell_type": "code",
   "execution_count": 9,
   "metadata": {},
   "outputs": [],
   "source": [
    "#collection.find_one()"
   ]
  },
  {
   "cell_type": "code",
   "execution_count": 10,
   "metadata": {},
   "outputs": [],
   "source": [
    "#db.collection.index_information()"
   ]
  },
  {
   "cell_type": "markdown",
   "metadata": {},
   "source": [
    "### Realizamos una llamada a la API de FourSquare para obtener los locales de Pet Services para obtener sus coordenadas y así averiguar si hay alguno cercano mediante la geoquery."
   ]
  },
  {
   "cell_type": "code",
   "execution_count": 11,
   "metadata": {},
   "outputs": [],
   "source": [
    "client_id = os.getenv(\"API_FS_CL\")\n",
    "secret = os.getenv(\"API_FS_KEY\")"
   ]
  },
  {
   "cell_type": "code",
   "execution_count": 12,
   "metadata": {},
   "outputs": [],
   "source": [
    "enlace = 'https://api.foursquare.com/v2/venues/explore'\n",
    "pet_service = \"5032897c91d4c4b30a586d69\"\n",
    "\n"
   ]
  },
  {
   "cell_type": "code",
   "execution_count": 13,
   "metadata": {},
   "outputs": [],
   "source": [
    "vancouver = {'type': 'Point', 'coordinates': [49.1902, -123.1837]}\n",
    "\n"
   ]
  },
  {
   "cell_type": "code",
   "execution_count": 14,
   "metadata": {},
   "outputs": [],
   "source": [
    "parametros = { \"client_id\" : client_id,\n",
    "              \"client_secret\" : secret,\n",
    "              \"v\" : \"20180323\",\n",
    "              \"ll\": f\"{vancouver.get('coordinates')[0]},{vancouver.get('coordinates')[1]}\",\n",
    "              \"categoryId\": pet_service,\n",
    "              \"limit\" : 100\n",
    "}"
   ]
  },
  {
   "cell_type": "code",
   "execution_count": 15,
   "metadata": {},
   "outputs": [],
   "source": [
    "resp = requests.get (url = enlace, params = parametros)\n",
    "pet_service = json.loads(resp.text)"
   ]
  },
  {
   "cell_type": "code",
   "execution_count": 16,
   "metadata": {},
   "outputs": [
    {
     "data": {
      "text/plain": [
       "dict_keys(['meta', 'response'])"
      ]
     },
     "execution_count": 16,
     "metadata": {},
     "output_type": "execute_result"
    }
   ],
   "source": [
    "pet_service.keys()"
   ]
  },
  {
   "cell_type": "markdown",
   "metadata": {},
   "source": [
    "### A partir de aquí y partiendo de las keys que ya hemos visto vamos a intentar obtener el nombre del local, la ciudad a la que pertenece (para asegurarnos de que es Vancouver así como la latitud y la longitud de cada uno)."
   ]
  },
  {
   "cell_type": "code",
   "execution_count": 17,
   "metadata": {},
   "outputs": [],
   "source": [
    "res = pet_service.get('response')\n",
    "#res\n",
    "\n"
   ]
  },
  {
   "cell_type": "code",
   "execution_count": 18,
   "metadata": {},
   "outputs": [],
   "source": [
    "groups = res.get(\"groups\")"
   ]
  },
  {
   "cell_type": "code",
   "execution_count": 19,
   "metadata": {},
   "outputs": [],
   "source": [
    "items = groups[0].get(\"items\")"
   ]
  },
  {
   "cell_type": "code",
   "execution_count": 20,
   "metadata": {},
   "outputs": [],
   "source": [
    "from functools import reduce\n",
    "import operator"
   ]
  },
  {
   "cell_type": "code",
   "execution_count": 21,
   "metadata": {},
   "outputs": [],
   "source": [
    "def getFromDict(diccionario,mapa):\n",
    "    return reduce(operator.getitem,mapa,diccionario)"
   ]
  },
  {
   "cell_type": "code",
   "execution_count": 22,
   "metadata": {},
   "outputs": [],
   "source": [
    "nombre = [\"venue\", \"name\"]\n",
    "ciudad = [\"venue\",\"location\", \"city\"]\n",
    "latitud = [\"venue\", \"location\",\"lat\"]\n",
    "longitud = [\"venue\",\"location\",\"lng\"]\n",
    "\n"
   ]
  },
  {
   "cell_type": "code",
   "execution_count": 23,
   "metadata": {},
   "outputs": [],
   "source": [
    "obtained_data = []\n",
    "for diccionario in items:\n",
    "    empty = {}\n",
    "    empty[\"nombre\"] = getFromDict(diccionario,nombre)\n",
    "    empty[\"ciudad\"] = getFromDict(diccionario,ciudad)\n",
    "    empty[\"latitud\"] = getFromDict(diccionario,latitud)\n",
    "    empty[\"longitud\"] = getFromDict(diccionario,longitud)\n",
    "    obtained_data.append(empty)"
   ]
  },
  {
   "cell_type": "code",
   "execution_count": 24,
   "metadata": {},
   "outputs": [
    {
     "data": {
      "text/plain": [
       "[{'nombre': 'PetSmart',\n",
       "  'ciudad': 'Richmond',\n",
       "  'latitud': 49.1930018,\n",
       "  'longitud': -123.1147847},\n",
       " {'nombre': 'Tisol Richmond',\n",
       "  'ciudad': 'Richmond',\n",
       "  'latitud': 49.17568329890719,\n",
       "  'longitud': -123.13715311773797},\n",
       " {'nombre': 'Dogsmart',\n",
       "  'ciudad': 'Vancouver',\n",
       "  'latitud': 49.21064804957017,\n",
       "  'longitud': -123.10655834297545},\n",
       " {'nombre': 'The Groom Room',\n",
       "  'ciudad': 'Vancouver',\n",
       "  'latitud': 49.252255039559124,\n",
       "  'longitud': -123.12742567643477}]"
      ]
     },
     "execution_count": 24,
     "metadata": {},
     "output_type": "execute_result"
    }
   ],
   "source": [
    "obtained_data"
   ]
  },
  {
   "cell_type": "code",
   "execution_count": 25,
   "metadata": {},
   "outputs": [],
   "source": [
    "pet_services = pd.DataFrame(obtained_data)"
   ]
  },
  {
   "cell_type": "code",
   "execution_count": 26,
   "metadata": {},
   "outputs": [
    {
     "data": {
      "text/html": [
       "<div>\n",
       "<style scoped>\n",
       "    .dataframe tbody tr th:only-of-type {\n",
       "        vertical-align: middle;\n",
       "    }\n",
       "\n",
       "    .dataframe tbody tr th {\n",
       "        vertical-align: top;\n",
       "    }\n",
       "\n",
       "    .dataframe thead th {\n",
       "        text-align: right;\n",
       "    }\n",
       "</style>\n",
       "<table border=\"1\" class=\"dataframe\">\n",
       "  <thead>\n",
       "    <tr style=\"text-align: right;\">\n",
       "      <th></th>\n",
       "      <th>nombre</th>\n",
       "      <th>ciudad</th>\n",
       "      <th>latitud</th>\n",
       "      <th>longitud</th>\n",
       "    </tr>\n",
       "  </thead>\n",
       "  <tbody>\n",
       "    <tr>\n",
       "      <th>0</th>\n",
       "      <td>PetSmart</td>\n",
       "      <td>Richmond</td>\n",
       "      <td>49.193002</td>\n",
       "      <td>-123.114785</td>\n",
       "    </tr>\n",
       "    <tr>\n",
       "      <th>1</th>\n",
       "      <td>Tisol Richmond</td>\n",
       "      <td>Richmond</td>\n",
       "      <td>49.175683</td>\n",
       "      <td>-123.137153</td>\n",
       "    </tr>\n",
       "    <tr>\n",
       "      <th>2</th>\n",
       "      <td>Dogsmart</td>\n",
       "      <td>Vancouver</td>\n",
       "      <td>49.210648</td>\n",
       "      <td>-123.106558</td>\n",
       "    </tr>\n",
       "    <tr>\n",
       "      <th>3</th>\n",
       "      <td>The Groom Room</td>\n",
       "      <td>Vancouver</td>\n",
       "      <td>49.252255</td>\n",
       "      <td>-123.127426</td>\n",
       "    </tr>\n",
       "  </tbody>\n",
       "</table>\n",
       "</div>"
      ],
      "text/plain": [
       "           nombre     ciudad    latitud    longitud\n",
       "0        PetSmart   Richmond  49.193002 -123.114785\n",
       "1  Tisol Richmond   Richmond  49.175683 -123.137153\n",
       "2        Dogsmart  Vancouver  49.210648 -123.106558\n",
       "3  The Groom Room  Vancouver  49.252255 -123.127426"
      ]
     },
     "execution_count": 26,
     "metadata": {},
     "output_type": "execute_result"
    }
   ],
   "source": [
    "pet_services"
   ]
  },
  {
   "cell_type": "markdown",
   "metadata": {},
   "source": [
    "### Aplicamos la función utilizada anteriormente para obtener la localización tipo \"Point\"."
   ]
  },
  {
   "cell_type": "code",
   "execution_count": 27,
   "metadata": {},
   "outputs": [
    {
     "data": {
      "text/html": [
       "<div>\n",
       "<style scoped>\n",
       "    .dataframe tbody tr th:only-of-type {\n",
       "        vertical-align: middle;\n",
       "    }\n",
       "\n",
       "    .dataframe tbody tr th {\n",
       "        vertical-align: top;\n",
       "    }\n",
       "\n",
       "    .dataframe thead th {\n",
       "        text-align: right;\n",
       "    }\n",
       "</style>\n",
       "<table border=\"1\" class=\"dataframe\">\n",
       "  <thead>\n",
       "    <tr style=\"text-align: right;\">\n",
       "      <th></th>\n",
       "      <th>nombre</th>\n",
       "      <th>ciudad</th>\n",
       "      <th>latitud</th>\n",
       "      <th>longitud</th>\n",
       "      <th>location</th>\n",
       "    </tr>\n",
       "  </thead>\n",
       "  <tbody>\n",
       "    <tr>\n",
       "      <th>0</th>\n",
       "      <td>PetSmart</td>\n",
       "      <td>Richmond</td>\n",
       "      <td>49.193002</td>\n",
       "      <td>-123.114785</td>\n",
       "      <td>{'type': 'Point', 'coordinates': [-123.1147847...</td>\n",
       "    </tr>\n",
       "    <tr>\n",
       "      <th>1</th>\n",
       "      <td>Tisol Richmond</td>\n",
       "      <td>Richmond</td>\n",
       "      <td>49.175683</td>\n",
       "      <td>-123.137153</td>\n",
       "      <td>{'type': 'Point', 'coordinates': [-123.1371531...</td>\n",
       "    </tr>\n",
       "    <tr>\n",
       "      <th>2</th>\n",
       "      <td>Dogsmart</td>\n",
       "      <td>Vancouver</td>\n",
       "      <td>49.210648</td>\n",
       "      <td>-123.106558</td>\n",
       "      <td>{'type': 'Point', 'coordinates': [-123.1065583...</td>\n",
       "    </tr>\n",
       "    <tr>\n",
       "      <th>3</th>\n",
       "      <td>The Groom Room</td>\n",
       "      <td>Vancouver</td>\n",
       "      <td>49.252255</td>\n",
       "      <td>-123.127426</td>\n",
       "      <td>{'type': 'Point', 'coordinates': [-123.1274256...</td>\n",
       "    </tr>\n",
       "  </tbody>\n",
       "</table>\n",
       "</div>"
      ],
      "text/plain": [
       "           nombre     ciudad    latitud    longitud  \\\n",
       "0        PetSmart   Richmond  49.193002 -123.114785   \n",
       "1  Tisol Richmond   Richmond  49.175683 -123.137153   \n",
       "2        Dogsmart  Vancouver  49.210648 -123.106558   \n",
       "3  The Groom Room  Vancouver  49.252255 -123.127426   \n",
       "\n",
       "                                            location  \n",
       "0  {'type': 'Point', 'coordinates': [-123.1147847...  \n",
       "1  {'type': 'Point', 'coordinates': [-123.1371531...  \n",
       "2  {'type': 'Point', 'coordinates': [-123.1065583...  \n",
       "3  {'type': 'Point', 'coordinates': [-123.1274256...  "
      ]
     },
     "execution_count": 27,
     "metadata": {},
     "output_type": "execute_result"
    }
   ],
   "source": [
    "pet_services[\"location\"] = pet_services[[\"latitud\",\"longitud\"]].apply(lambda x:fl.toGeoJson(x.latitud,x.longitud), axis=1)\n",
    "pet_services.head()"
   ]
  },
  {
   "cell_type": "code",
   "execution_count": 28,
   "metadata": {},
   "outputs": [],
   "source": [
    "#pet_services.to_json(\"pet_services.json\", orient=\"records\")"
   ]
  },
  {
   "cell_type": "markdown",
   "metadata": {},
   "source": [
    "### Pasamos el dataframe a Json y lo importamos en Mongo DB para poder trabajar con la geoquery."
   ]
  },
  {
   "cell_type": "code",
   "execution_count": 29,
   "metadata": {},
   "outputs": [],
   "source": [
    "#!mongoimport --db companies --collection pet_services --drop --jsonArray output/pet_services.json"
   ]
  },
  {
   "cell_type": "code",
   "execution_count": 30,
   "metadata": {},
   "outputs": [],
   "source": [
    "conn = MongoClient(\"localhost:27017\")"
   ]
  },
  {
   "cell_type": "code",
   "execution_count": 31,
   "metadata": {},
   "outputs": [],
   "source": [
    "db1 = conn.get_database(\"companies\")"
   ]
  },
  {
   "cell_type": "code",
   "execution_count": 32,
   "metadata": {},
   "outputs": [
    {
     "data": {
      "text/plain": [
       "'location_2dsphere'"
      ]
     },
     "execution_count": 32,
     "metadata": {},
     "output_type": "execute_result"
    }
   ],
   "source": [
    "collection = db1.get_collection(\"pet_services\")\n",
    "\n",
    "collection.create_index([(\"location\", '2dsphere')])"
   ]
  },
  {
   "cell_type": "code",
   "execution_count": 33,
   "metadata": {},
   "outputs": [
    {
     "data": {
      "text/plain": [
       "'geometry_2dsphere'"
      ]
     },
     "execution_count": 33,
     "metadata": {},
     "output_type": "execute_result"
    }
   ],
   "source": [
    "collection.create_index([(\"geometry\", '2dsphere')])"
   ]
  },
  {
   "cell_type": "code",
   "execution_count": 34,
   "metadata": {},
   "outputs": [
    {
     "data": {
      "text/plain": [
       "dict_keys(['_id', 'nombre', 'ciudad', 'latitud', 'longitud', 'location'])"
      ]
     },
     "execution_count": 34,
     "metadata": {},
     "output_type": "execute_result"
    }
   ],
   "source": [
    "collection.find_one().keys()"
   ]
  },
  {
   "cell_type": "code",
   "execution_count": 35,
   "metadata": {},
   "outputs": [],
   "source": [
    "#collection.find_one()"
   ]
  },
  {
   "cell_type": "markdown",
   "metadata": {},
   "source": [
    "### Importamos el CSV con el dataframe formado por las 3 oficinas con mejor puntuación para obtener sus coordenadas y poder hacer la geoquery."
   ]
  },
  {
   "cell_type": "code",
   "execution_count": 36,
   "metadata": {},
   "outputs": [],
   "source": [
    "top3_offices = pd.read_csv('output/top_3_offices.csv')"
   ]
  },
  {
   "cell_type": "code",
   "execution_count": 37,
   "metadata": {},
   "outputs": [
    {
     "data": {
      "text/html": [
       "<div>\n",
       "<style scoped>\n",
       "    .dataframe tbody tr th:only-of-type {\n",
       "        vertical-align: middle;\n",
       "    }\n",
       "\n",
       "    .dataframe tbody tr th {\n",
       "        vertical-align: top;\n",
       "    }\n",
       "\n",
       "    .dataframe thead th {\n",
       "        text-align: right;\n",
       "    }\n",
       "</style>\n",
       "<table border=\"1\" class=\"dataframe\">\n",
       "  <thead>\n",
       "    <tr style=\"text-align: right;\">\n",
       "      <th></th>\n",
       "      <th>Unnamed: 0</th>\n",
       "      <th>_id</th>\n",
       "      <th>name</th>\n",
       "      <th>category_code</th>\n",
       "      <th>founded_year</th>\n",
       "      <th>offices</th>\n",
       "      <th>total_funding</th>\n",
       "      <th>city</th>\n",
       "      <th>latitude</th>\n",
       "      <th>longitude</th>\n",
       "      <th>location</th>\n",
       "      <th>airports_2km</th>\n",
       "      <th>primary_schools_1km</th>\n",
       "      <th>night_clubs_1km</th>\n",
       "      <th>starbucks_500m</th>\n",
       "      <th>score</th>\n",
       "    </tr>\n",
       "  </thead>\n",
       "  <tbody>\n",
       "    <tr>\n",
       "      <th>0</th>\n",
       "      <td>13</td>\n",
       "      <td>5fb0325c71eb61051a67b17d</td>\n",
       "      <td>Nexterra</td>\n",
       "      <td>cleantech</td>\n",
       "      <td>NaN</td>\n",
       "      <td>{'description': 'Corporate Headquarters', 'add...</td>\n",
       "      <td>29000000</td>\n",
       "      <td>Vancouver</td>\n",
       "      <td>49.282159</td>\n",
       "      <td>-123.117650</td>\n",
       "      <td>{'type': 'Point', 'coordinates': [-123.1176496...</td>\n",
       "      <td>5</td>\n",
       "      <td>3</td>\n",
       "      <td>20</td>\n",
       "      <td>20</td>\n",
       "      <td>12.1</td>\n",
       "    </tr>\n",
       "    <tr>\n",
       "      <th>1</th>\n",
       "      <td>4</td>\n",
       "      <td>5fb0325b71eb61051a67a870</td>\n",
       "      <td>BuildDirect</td>\n",
       "      <td>ecommerce</td>\n",
       "      <td>1999.0</td>\n",
       "      <td>{'description': '', 'address1': '717 West Pend...</td>\n",
       "      <td>33000000</td>\n",
       "      <td>Vancouver</td>\n",
       "      <td>49.283935</td>\n",
       "      <td>-123.115930</td>\n",
       "      <td>{'type': 'Point', 'coordinates': [-123.11593, ...</td>\n",
       "      <td>5</td>\n",
       "      <td>2</td>\n",
       "      <td>20</td>\n",
       "      <td>20</td>\n",
       "      <td>11.9</td>\n",
       "    </tr>\n",
       "    <tr>\n",
       "      <th>2</th>\n",
       "      <td>11</td>\n",
       "      <td>5fb0325c71eb61051a67b075</td>\n",
       "      <td>Ostara</td>\n",
       "      <td>cleantech</td>\n",
       "      <td>2005.0</td>\n",
       "      <td>{'description': '', 'address1': '690 â€“ 1199 ...</td>\n",
       "      <td>45681891</td>\n",
       "      <td>Vancouver</td>\n",
       "      <td>49.288355</td>\n",
       "      <td>-123.123354</td>\n",
       "      <td>{'type': 'Point', 'coordinates': [-123.1233545...</td>\n",
       "      <td>5</td>\n",
       "      <td>2</td>\n",
       "      <td>20</td>\n",
       "      <td>20</td>\n",
       "      <td>11.9</td>\n",
       "    </tr>\n",
       "  </tbody>\n",
       "</table>\n",
       "</div>"
      ],
      "text/plain": [
       "   Unnamed: 0                       _id         name category_code  \\\n",
       "0          13  5fb0325c71eb61051a67b17d     Nexterra     cleantech   \n",
       "1           4  5fb0325b71eb61051a67a870  BuildDirect     ecommerce   \n",
       "2          11  5fb0325c71eb61051a67b075       Ostara     cleantech   \n",
       "\n",
       "   founded_year                                            offices  \\\n",
       "0           NaN  {'description': 'Corporate Headquarters', 'add...   \n",
       "1        1999.0  {'description': '', 'address1': '717 West Pend...   \n",
       "2        2005.0  {'description': '', 'address1': '690 â€“ 1199 ...   \n",
       "\n",
       "   total_funding       city   latitude   longitude  \\\n",
       "0       29000000  Vancouver  49.282159 -123.117650   \n",
       "1       33000000  Vancouver  49.283935 -123.115930   \n",
       "2       45681891  Vancouver  49.288355 -123.123354   \n",
       "\n",
       "                                            location  airports_2km  \\\n",
       "0  {'type': 'Point', 'coordinates': [-123.1176496...             5   \n",
       "1  {'type': 'Point', 'coordinates': [-123.11593, ...             5   \n",
       "2  {'type': 'Point', 'coordinates': [-123.1233545...             5   \n",
       "\n",
       "   primary_schools_1km  night_clubs_1km  starbucks_500m  score  \n",
       "0                    3               20              20   12.1  \n",
       "1                    2               20              20   11.9  \n",
       "2                    2               20              20   11.9  "
      ]
     },
     "execution_count": 37,
     "metadata": {},
     "output_type": "execute_result"
    }
   ],
   "source": [
    "top3_offices"
   ]
  },
  {
   "cell_type": "markdown",
   "metadata": {},
   "source": [
    "### Aplicamos la función \"find_pet_services\" que realiza una geoquery con las coordenadas de las oficinas para saber si existe algún local de servicios para perros en un radio de 4 km."
   ]
  },
  {
   "cell_type": "code",
   "execution_count": 38,
   "metadata": {},
   "outputs": [
    {
     "name": "stdout",
     "output_type": "stream",
     "text": [
      "[-123.11764960000001, 49.282159]\n",
      "{'location': {'$near': {'$geometry': {'type': 'Point', 'coordinates': [-123.11764960000001, 49.282159]}, '$maxDistance': 4000, '$minDistance': 0}}}\n",
      "[-123.11593, 49.283935]\n",
      "{'location': {'$near': {'$geometry': {'type': 'Point', 'coordinates': [-123.11593, 49.283935]}, '$maxDistance': 4000, '$minDistance': 0}}}\n",
      "[-123.12335449999999, 49.28835529999999]\n",
      "{'location': {'$near': {'$geometry': {'type': 'Point', 'coordinates': [-123.12335449999999, 49.28835529999999]}, '$maxDistance': 4000, '$minDistance': 0}}}\n"
     ]
    }
   ],
   "source": [
    "top3_offices['pet_services'] = top3_offices.apply(lambda x: ge.find_pet_services(db1, [x['longitude'], x['latitude']]), axis=1)"
   ]
  },
  {
   "cell_type": "code",
   "execution_count": 39,
   "metadata": {},
   "outputs": [
    {
     "data": {
      "text/plain": [
       "[{'_id': ObjectId('5fb25a0503d29c7554bd5fd1'),\n",
       "  'nombre': 'The Groom Room',\n",
       "  'ciudad': 'Vancouver',\n",
       "  'latitud': 49.2522550396,\n",
       "  'longitud': -123.1274256764,\n",
       "  'location': {'type': 'Point',\n",
       "   'coordinates': [-123.1274256764, 49.2522550396]}}]"
      ]
     },
     "execution_count": 39,
     "metadata": {},
     "output_type": "execute_result"
    }
   ],
   "source": [
    "top3_offices['pet_services'][0]"
   ]
  },
  {
   "cell_type": "code",
   "execution_count": 40,
   "metadata": {},
   "outputs": [],
   "source": [
    "top3_offices['nearest_pet_service'] = top3_offices.apply(lambda x: gl.nearest_place(x['longitude'], x['latitude'], x['pet_services']), axis=1)"
   ]
  },
  {
   "cell_type": "markdown",
   "metadata": {},
   "source": [
    "### Con esta función creamos la columna nearest_pet_service por cada una de las tres oficinas que nos muestra de la información de los locales de cuidado de mascotas, el más cercano para cada oficina."
   ]
  },
  {
   "cell_type": "code",
   "execution_count": 41,
   "metadata": {},
   "outputs": [
    {
     "data": {
      "text/html": [
       "<div>\n",
       "<style scoped>\n",
       "    .dataframe tbody tr th:only-of-type {\n",
       "        vertical-align: middle;\n",
       "    }\n",
       "\n",
       "    .dataframe tbody tr th {\n",
       "        vertical-align: top;\n",
       "    }\n",
       "\n",
       "    .dataframe thead th {\n",
       "        text-align: right;\n",
       "    }\n",
       "</style>\n",
       "<table border=\"1\" class=\"dataframe\">\n",
       "  <thead>\n",
       "    <tr style=\"text-align: right;\">\n",
       "      <th></th>\n",
       "      <th>Unnamed: 0</th>\n",
       "      <th>_id</th>\n",
       "      <th>name</th>\n",
       "      <th>category_code</th>\n",
       "      <th>founded_year</th>\n",
       "      <th>offices</th>\n",
       "      <th>total_funding</th>\n",
       "      <th>city</th>\n",
       "      <th>latitude</th>\n",
       "      <th>longitude</th>\n",
       "      <th>location</th>\n",
       "      <th>airports_2km</th>\n",
       "      <th>primary_schools_1km</th>\n",
       "      <th>night_clubs_1km</th>\n",
       "      <th>starbucks_500m</th>\n",
       "      <th>score</th>\n",
       "      <th>pet_services</th>\n",
       "      <th>nearest_pet_service</th>\n",
       "    </tr>\n",
       "  </thead>\n",
       "  <tbody>\n",
       "    <tr>\n",
       "      <th>0</th>\n",
       "      <td>13</td>\n",
       "      <td>5fb0325c71eb61051a67b17d</td>\n",
       "      <td>Nexterra</td>\n",
       "      <td>cleantech</td>\n",
       "      <td>NaN</td>\n",
       "      <td>{'description': 'Corporate Headquarters', 'add...</td>\n",
       "      <td>29000000</td>\n",
       "      <td>Vancouver</td>\n",
       "      <td>49.282159</td>\n",
       "      <td>-123.117650</td>\n",
       "      <td>{'type': 'Point', 'coordinates': [-123.1176496...</td>\n",
       "      <td>5</td>\n",
       "      <td>3</td>\n",
       "      <td>20</td>\n",
       "      <td>20</td>\n",
       "      <td>12.1</td>\n",
       "      <td>[{'_id': 5fb25a0503d29c7554bd5fd1, 'nombre': '...</td>\n",
       "      <td>{'name': 'The Groom Room', 'location': [-123.1...</td>\n",
       "    </tr>\n",
       "    <tr>\n",
       "      <th>1</th>\n",
       "      <td>4</td>\n",
       "      <td>5fb0325b71eb61051a67a870</td>\n",
       "      <td>BuildDirect</td>\n",
       "      <td>ecommerce</td>\n",
       "      <td>1999.0</td>\n",
       "      <td>{'description': '', 'address1': '717 West Pend...</td>\n",
       "      <td>33000000</td>\n",
       "      <td>Vancouver</td>\n",
       "      <td>49.283935</td>\n",
       "      <td>-123.115930</td>\n",
       "      <td>{'type': 'Point', 'coordinates': [-123.11593, ...</td>\n",
       "      <td>5</td>\n",
       "      <td>2</td>\n",
       "      <td>20</td>\n",
       "      <td>20</td>\n",
       "      <td>11.9</td>\n",
       "      <td>[{'_id': 5fb25a0503d29c7554bd5fd1, 'nombre': '...</td>\n",
       "      <td>{'name': 'The Groom Room', 'location': [-123.1...</td>\n",
       "    </tr>\n",
       "    <tr>\n",
       "      <th>2</th>\n",
       "      <td>11</td>\n",
       "      <td>5fb0325c71eb61051a67b075</td>\n",
       "      <td>Ostara</td>\n",
       "      <td>cleantech</td>\n",
       "      <td>2005.0</td>\n",
       "      <td>{'description': '', 'address1': '690 â€“ 1199 ...</td>\n",
       "      <td>45681891</td>\n",
       "      <td>Vancouver</td>\n",
       "      <td>49.288355</td>\n",
       "      <td>-123.123354</td>\n",
       "      <td>{'type': 'Point', 'coordinates': [-123.1233545...</td>\n",
       "      <td>5</td>\n",
       "      <td>2</td>\n",
       "      <td>20</td>\n",
       "      <td>20</td>\n",
       "      <td>11.9</td>\n",
       "      <td>[]</td>\n",
       "      <td>{}</td>\n",
       "    </tr>\n",
       "  </tbody>\n",
       "</table>\n",
       "</div>"
      ],
      "text/plain": [
       "   Unnamed: 0                       _id         name category_code  \\\n",
       "0          13  5fb0325c71eb61051a67b17d     Nexterra     cleantech   \n",
       "1           4  5fb0325b71eb61051a67a870  BuildDirect     ecommerce   \n",
       "2          11  5fb0325c71eb61051a67b075       Ostara     cleantech   \n",
       "\n",
       "   founded_year                                            offices  \\\n",
       "0           NaN  {'description': 'Corporate Headquarters', 'add...   \n",
       "1        1999.0  {'description': '', 'address1': '717 West Pend...   \n",
       "2        2005.0  {'description': '', 'address1': '690 â€“ 1199 ...   \n",
       "\n",
       "   total_funding       city   latitude   longitude  \\\n",
       "0       29000000  Vancouver  49.282159 -123.117650   \n",
       "1       33000000  Vancouver  49.283935 -123.115930   \n",
       "2       45681891  Vancouver  49.288355 -123.123354   \n",
       "\n",
       "                                            location  airports_2km  \\\n",
       "0  {'type': 'Point', 'coordinates': [-123.1176496...             5   \n",
       "1  {'type': 'Point', 'coordinates': [-123.11593, ...             5   \n",
       "2  {'type': 'Point', 'coordinates': [-123.1233545...             5   \n",
       "\n",
       "   primary_schools_1km  night_clubs_1km  starbucks_500m  score  \\\n",
       "0                    3               20              20   12.1   \n",
       "1                    2               20              20   11.9   \n",
       "2                    2               20              20   11.9   \n",
       "\n",
       "                                        pet_services  \\\n",
       "0  [{'_id': 5fb25a0503d29c7554bd5fd1, 'nombre': '...   \n",
       "1  [{'_id': 5fb25a0503d29c7554bd5fd1, 'nombre': '...   \n",
       "2                                                 []   \n",
       "\n",
       "                                 nearest_pet_service  \n",
       "0  {'name': 'The Groom Room', 'location': [-123.1...  \n",
       "1  {'name': 'The Groom Room', 'location': [-123.1...  \n",
       "2                                                 {}  "
      ]
     },
     "execution_count": 41,
     "metadata": {},
     "output_type": "execute_result"
    }
   ],
   "source": [
    "top3_offices"
   ]
  },
  {
   "cell_type": "markdown",
   "metadata": {},
   "source": [
    "### Descartamos la 3 oficina definitivamente porque no tiene cerca una peluquería canina así que vamos a analizar de entre las otras dos, cuál tiene una más cerca:"
   ]
  },
  {
   "cell_type": "code",
   "execution_count": 42,
   "metadata": {},
   "outputs": [
    {
     "data": {
      "text/plain": [
       "{'name': 'The Groom Room',\n",
       " 'location': [-123.1274256764, 49.2522550396],\n",
       " 'meters_to_office': 3401.0221726575073}"
      ]
     },
     "execution_count": 42,
     "metadata": {},
     "output_type": "execute_result"
    }
   ],
   "source": [
    "top3_offices['nearest_pet_service'][0]"
   ]
  },
  {
   "cell_type": "code",
   "execution_count": 43,
   "metadata": {},
   "outputs": [
    {
     "data": {
      "text/plain": [
       "{'name': 'The Groom Room',\n",
       " 'location': [-123.1274256764, 49.2522550396],\n",
       " 'meters_to_office': 3621.255665476988}"
      ]
     },
     "execution_count": 43,
     "metadata": {},
     "output_type": "execute_result"
    }
   ],
   "source": [
    "top3_offices['nearest_pet_service'][1]"
   ]
  },
  {
   "cell_type": "markdown",
   "metadata": {},
   "source": [
    "### Como podemos comprobar, la oficina con índice 0, la ganadora del ranking anterior es la que tiene más cerca el local de servicios para mascotas, así que sigue siendo la elegida. A continuación, en el siguiente .ipynb vamos a pintar un mapa con Folium para ver cómo quedaría el mapa con: la oficina elegida con todos los servicios así como la que ha quedado en segunda posición"
   ]
  },
  {
   "cell_type": "markdown",
   "metadata": {},
   "source": [
    "## En conclusión,nos quedamos con la oficina 'Nexterra' de la categoría 'cleantech' y con las siguientes coordenadas: lat = 49.282159, lon =\t-123.117650."
   ]
  }
 ],
 "metadata": {
  "kernelspec": {
   "display_name": "Python 3",
   "language": "python",
   "name": "python3"
  },
  "language_info": {
   "codemirror_mode": {
    "name": "ipython",
    "version": 3
   },
   "file_extension": ".py",
   "mimetype": "text/x-python",
   "name": "python",
   "nbconvert_exporter": "python",
   "pygments_lexer": "ipython3",
   "version": "3.8.5"
  }
 },
 "nbformat": 4,
 "nbformat_minor": 4
}
